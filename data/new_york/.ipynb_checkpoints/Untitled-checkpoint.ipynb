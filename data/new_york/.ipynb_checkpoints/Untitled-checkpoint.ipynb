{
 "cells": [
  {
   "cell_type": "code",
   "execution_count": 1,
   "id": "ef16e023",
   "metadata": {},
   "outputs": [],
   "source": [
    "import geopandas"
   ]
  },
  {
   "cell_type": "code",
   "execution_count": 2,
   "id": "fae1fc90",
   "metadata": {},
   "outputs": [],
   "source": [
    "a = geopandas.read_file('tessellation.shp')"
   ]
  },
  {
   "cell_type": "code",
   "execution_count": 3,
   "id": "20b6157a",
   "metadata": {},
   "outputs": [
    {
     "data": {
      "text/html": [
       "<div>\n",
       "<style scoped>\n",
       "    .dataframe tbody tr th:only-of-type {\n",
       "        vertical-align: middle;\n",
       "    }\n",
       "\n",
       "    .dataframe tbody tr th {\n",
       "        vertical-align: top;\n",
       "    }\n",
       "\n",
       "    .dataframe thead th {\n",
       "        text-align: right;\n",
       "    }\n",
       "</style>\n",
       "<table border=\"1\" class=\"dataframe\">\n",
       "  <thead>\n",
       "    <tr style=\"text-align: right;\">\n",
       "      <th></th>\n",
       "      <th>tile_ID</th>\n",
       "      <th>geometry</th>\n",
       "    </tr>\n",
       "  </thead>\n",
       "  <tbody>\n",
       "    <tr>\n",
       "      <th>0</th>\n",
       "      <td>0</td>\n",
       "      <td>POLYGON ((-79.76194 41.99721, -79.76194 42.163...</td>\n",
       "    </tr>\n",
       "    <tr>\n",
       "      <th>1</th>\n",
       "      <td>1</td>\n",
       "      <td>POLYGON ((-79.76194 42.16389, -79.76194 42.330...</td>\n",
       "    </tr>\n",
       "    <tr>\n",
       "      <th>2</th>\n",
       "      <td>2</td>\n",
       "      <td>POLYGON ((-79.76194 42.33013, -79.76194 42.495...</td>\n",
       "    </tr>\n",
       "    <tr>\n",
       "      <th>3</th>\n",
       "      <td>3</td>\n",
       "      <td>POLYGON ((-79.76194 42.49594, -79.76194 42.661...</td>\n",
       "    </tr>\n",
       "    <tr>\n",
       "      <th>4</th>\n",
       "      <td>4</td>\n",
       "      <td>POLYGON ((-79.53737 41.99721, -79.53737 42.163...</td>\n",
       "    </tr>\n",
       "    <tr>\n",
       "      <th>...</th>\n",
       "      <td>...</td>\n",
       "      <td>...</td>\n",
       "    </tr>\n",
       "    <tr>\n",
       "      <th>470</th>\n",
       "      <td>470</td>\n",
       "      <td>POLYGON ((-72.12626 40.98793, -72.12626 41.157...</td>\n",
       "    </tr>\n",
       "    <tr>\n",
       "      <th>471</th>\n",
       "      <td>471</td>\n",
       "      <td>POLYGON ((-72.12626 41.15723, -72.12626 41.326...</td>\n",
       "    </tr>\n",
       "    <tr>\n",
       "      <th>472</th>\n",
       "      <td>472</td>\n",
       "      <td>POLYGON ((-71.90169 40.81819, -71.90169 40.987...</td>\n",
       "    </tr>\n",
       "    <tr>\n",
       "      <th>473</th>\n",
       "      <td>473</td>\n",
       "      <td>POLYGON ((-71.90169 40.98793, -71.90169 41.157...</td>\n",
       "    </tr>\n",
       "    <tr>\n",
       "      <th>474</th>\n",
       "      <td>474</td>\n",
       "      <td>POLYGON ((-71.90169 41.15723, -71.90169 41.326...</td>\n",
       "    </tr>\n",
       "  </tbody>\n",
       "</table>\n",
       "<p>475 rows × 2 columns</p>\n",
       "</div>"
      ],
      "text/plain": [
       "    tile_ID                                           geometry\n",
       "0         0  POLYGON ((-79.76194 41.99721, -79.76194 42.163...\n",
       "1         1  POLYGON ((-79.76194 42.16389, -79.76194 42.330...\n",
       "2         2  POLYGON ((-79.76194 42.33013, -79.76194 42.495...\n",
       "3         3  POLYGON ((-79.76194 42.49594, -79.76194 42.661...\n",
       "4         4  POLYGON ((-79.53737 41.99721, -79.53737 42.163...\n",
       "..      ...                                                ...\n",
       "470     470  POLYGON ((-72.12626 40.98793, -72.12626 41.157...\n",
       "471     471  POLYGON ((-72.12626 41.15723, -72.12626 41.326...\n",
       "472     472  POLYGON ((-71.90169 40.81819, -71.90169 40.987...\n",
       "473     473  POLYGON ((-71.90169 40.98793, -71.90169 41.157...\n",
       "474     474  POLYGON ((-71.90169 41.15723, -71.90169 41.326...\n",
       "\n",
       "[475 rows x 2 columns]"
      ]
     },
     "execution_count": 3,
     "metadata": {},
     "output_type": "execute_result"
    }
   ],
   "source": [
    "a"
   ]
  },
  {
   "cell_type": "code",
   "execution_count": 5,
   "id": "a30459d0",
   "metadata": {},
   "outputs": [],
   "source": [
    "from skmob.tessellation import tilers\n",
    "\n",
    "tessellation = tilers.tiler.get(\"squared\", base_shape=\"Beijing, China\", meters=15000)\n"
   ]
  },
  {
   "cell_type": "code",
   "execution_count": null,
   "id": "b9a78d4c",
   "metadata": {},
   "outputs": [],
   "source": []
  }
 ],
 "metadata": {
  "kernelspec": {
   "display_name": "Python 3",
   "language": "python",
   "name": "python3"
  },
  "language_info": {
   "codemirror_mode": {
    "name": "ipython",
    "version": 3
   },
   "file_extension": ".py",
   "mimetype": "text/x-python",
   "name": "python",
   "nbconvert_exporter": "python",
   "pygments_lexer": "ipython3",
   "version": "3.8.5"
  }
 },
 "nbformat": 4,
 "nbformat_minor": 5
}
